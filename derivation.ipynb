{
 "cells": [
  {
   "cell_type": "markdown",
   "id": "necessary-company",
   "metadata": {},
   "source": [
    "### Goal\n",
    "\n",
    "Optimize cost function\n",
    "\n",
    "\\begin{equation}\n",
    "J_0(u, v) = \\sum_i^c \\sum_k^n u_{ik}^m d^2(v_i, x_k)\n",
    "\\end{equation}\n",
    "\n",
    "with constraints\n",
    "\\begin{equation}\n",
    "\\sum_i^c u_{ik} = 1\n",
    "\\end{equation}\n",
    "\n",
    "for all $k$ with\n",
    "\n",
    "* centroids $v$,\n",
    "* data points $x$,\n",
    "* cluster affiliation values $u$."
   ]
  },
  {
   "cell_type": "markdown",
   "id": "herbal-probability",
   "metadata": {},
   "source": [
    "The Euclidean distance between vectors $a$ and $b$ is denoted with\n",
    "\n",
    "\\begin{equation}\n",
    "d(a, b) = \\sqrt{\\sum_k (a_k - b_k)^2}.\n",
    "\\end{equation}"
   ]
  },
  {
   "cell_type": "markdown",
   "id": "quarterly-communist",
   "metadata": {},
   "source": [
    "Introduce Lagrange multiplier $\\lambda$ to enforce constraints on $u$:\n",
    "\n",
    "\\begin{equation}\n",
    "J(u, v, \\lambda) = \\sum_i^c \\sum_k^n u_{ik}^m d^2(v_i, x_k) + \\sum_k^n \\lambda_k \\left( \\sum_i^c u_{ik} - 1 \\right).\n",
    "\\end{equation}"
   ]
  },
  {
   "cell_type": "markdown",
   "id": "directed-modem",
   "metadata": {},
   "source": [
    "Take derivative of $J$ with respect to $u$ and set to zero:\n",
    "\n",
    "\\begin{equation}\n",
    "\\frac{\\partial J}{\\partial u_{ik}} = m u_{ik}^{m-1} d^2(v_i, x_k) + \\lambda = 0.\n",
    "\\end{equation}"
   ]
  },
  {
   "cell_type": "markdown",
   "id": "excellent-tribute",
   "metadata": {},
   "source": [
    "Solve for $u$:\n",
    "\n",
    "\\begin{equation}\n",
    "u_{ik}  = \\left(\\frac{-\\lambda}{m d^2(v_i, x_k)}\\right)^{\\frac{1}{m-1}}.\n",
    "\\end{equation}"
   ]
  },
  {
   "cell_type": "markdown",
   "id": "narrative-guinea",
   "metadata": {},
   "source": [
    "Take derivative of $J$ with respect to $\\lambda$ and set to zero:\n",
    "\n",
    "\\begin{equation}\n",
    "\\frac{\\partial J}{\\partial \\lambda_k} = \\sum_i^c u_{ik} - 1 = 0.\n",
    "\\end{equation}"
   ]
  },
  {
   "cell_type": "markdown",
   "id": "fantastic-bracelet",
   "metadata": {},
   "source": [
    "Rename $i$ to $j$ and add 1:\n",
    "\n",
    "\\begin{equation}\n",
    "\\sum_j^c u_{jk} = 1.\n",
    "\\end{equation}"
   ]
  },
  {
   "cell_type": "markdown",
   "id": "proof-spectacular",
   "metadata": {},
   "source": [
    "Substitute $u$:\n",
    "\n",
    "\\begin{equation}\n",
    "\\sum_j^c \\left(\\frac{-\\lambda}{m d^2(v_j, x_k)}\\right)^{\\frac{1}{m-1}} = 1.\n",
    "\\end{equation}"
   ]
  },
  {
   "cell_type": "markdown",
   "id": "prospective-american",
   "metadata": {},
   "source": [
    "Factor constants:\n",
    "\n",
    "\\begin{equation}\n",
    "\\left(\\frac{-\\lambda}{m}\\right)^{\\frac{1}{m-1}} \\sum_j^c \\left(\\frac{1}{d^2(v_j, x_k)}\\right)^{\\frac{1}{m-1}} = 1.\n",
    "\\end{equation}"
   ]
  },
  {
   "cell_type": "markdown",
   "id": "danish-proposal",
   "metadata": {},
   "source": [
    "Divide by sum:\n",
    "\n",
    "\\begin{equation}\n",
    "\\left(\\frac{-\\lambda}{m}\\right)^{\\frac{1}{m-1}} = \\frac{1}{\\sum_j^c \\left(\\frac{1}{d^2(v_j, x_k)}\\right)^{\\frac{1}{m-1}}}.\n",
    "\\end{equation}"
   ]
  },
  {
   "cell_type": "markdown",
   "id": "monthly-austria",
   "metadata": {},
   "source": [
    "Solve for $u$:\n",
    "\n",
    "\\begin{equation}\n",
    "u_{ik}  = \\frac{1}{\\sum_j^c \\left(\\frac{1}{d^2(v_i, x_k)}\\right)^{\\frac{1}{m-1}}} \\left(\\frac{}{d^2(v_j, x_k)}\\right)^{\\frac{1}{m-1}}.\n",
    "\\end{equation}"
   ]
  },
  {
   "cell_type": "markdown",
   "id": "joint-honey",
   "metadata": {},
   "source": [
    "Move last multiplicand into sum:\n",
    "\n",
    "\\begin{equation}\n",
    "u_{ik} = \\frac{1}{\\sum_j^c \\left(\\frac{d^2(v_i, x_k)}{d^2(v_j, x_k)}\\right)^{\\frac{1}{m-1}}}.\n",
    "\\end{equation}"
   ]
  },
  {
   "cell_type": "markdown",
   "id": "designing-shower",
   "metadata": {},
   "source": [
    "Now that we got $u$, do the same for $v$.\n",
    "\n",
    "Take derivative of $J$ with respect to $v$ and set to zero:\n",
    "\n",
    "\\begin{align}\n",
    "\\frac{\\partial J}{\\partial v_{il}} & = \\frac{\\partial}{\\partial v_{il}} \\sum_i^c \\sum_k^n u_{ik}^m d^2(v_i, x_k) + \\sum_k^n \\lambda_k \\left( \\sum_i^c u_{ik} - 1 \\right)\\\\\n",
    "& = \\frac{\\partial}{\\partial v_{il}} \\sum_k^n u_{ik}^m d^2(v_i, x_k)\\\\\n",
    "& = \\frac{\\partial}{\\partial v_{il}} \\sum_k^n u_{ik}^m \\sum_l (v_{il} - x_{kl})^2\\\\\n",
    "& = \\sum_k^n u_{ik}^m \\frac{\\partial}{\\partial v_{il}} \\sum_l (v_{il} - x_{kl})^2\\\\\n",
    "& = \\sum_k^n u_{ik}^m 2 (v_{il} - x_{kl}) = 0.\n",
    "\\end{align}"
   ]
  },
  {
   "cell_type": "markdown",
   "id": "civic-emerald",
   "metadata": {},
   "source": [
    "Solve for $v$.\n",
    "\n",
    "\\begin{align}\n",
    "v_{il} = \\frac{\\sum_k^n u_{ik}^m x_{kl}}{\\sum_k^n u_{ik}^m}.\n",
    "\\end{align}"
   ]
  },
  {
   "cell_type": "markdown",
   "id": "happy-transformation",
   "metadata": {},
   "source": [
    "Express $v$ as a vector of $x$ (remove index $l$).\n",
    "\n",
    "\\begin{align}\n",
    "v_i = \\frac{\\sum_k^n u_{ik}^m x_k}{\\sum_k^n u_{ik}^m}.\n",
    "\\end{align}"
   ]
  },
  {
   "cell_type": "code",
   "execution_count": null,
   "id": "handmade-freedom",
   "metadata": {},
   "outputs": [],
   "source": []
  }
 ],
 "metadata": {
  "kernelspec": {
   "display_name": "Python 3",
   "language": "python",
   "name": "python3"
  },
  "language_info": {
   "codemirror_mode": {
    "name": "ipython",
    "version": 3
   },
   "file_extension": ".py",
   "mimetype": "text/x-python",
   "name": "python",
   "nbconvert_exporter": "python",
   "pygments_lexer": "ipython3",
   "version": "3.8.5"
  }
 },
 "nbformat": 4,
 "nbformat_minor": 5
}
